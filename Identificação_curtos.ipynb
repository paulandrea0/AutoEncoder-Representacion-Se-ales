{
  "nbformat": 4,
  "nbformat_minor": 0,
  "metadata": {
    "colab": {
      "provenance": [],
      "mount_file_id": "1Q5uQHgnm5Q1QMJoUa4XDSKEePctwF3uB",
      "authorship_tag": "ABX9TyMo+sVQsM87laWrob6GJRRB",
      "include_colab_link": true
    },
    "kernelspec": {
      "name": "python3",
      "display_name": "Python 3"
    },
    "language_info": {
      "name": "python"
    }
  },
  "cells": [
    {
      "cell_type": "markdown",
      "metadata": {
        "id": "view-in-github",
        "colab_type": "text"
      },
      "source": [
        "<a href=\"https://colab.research.google.com/github/paulandrea0/AutoEncoder-Representacion-Se-ales/blob/main/Identifica%C3%A7%C3%A3o_curtos.ipynb\" target=\"_parent\"><img src=\"https://colab.research.google.com/assets/colab-badge.svg\" alt=\"Open In Colab\"/></a>"
      ]
    },
    {
      "cell_type": "code",
      "execution_count": 7,
      "metadata": {
        "colab": {
          "base_uri": "https://localhost:8080/"
        },
        "id": "rQDCIobPTJtK",
        "outputId": "a78a20e3-207a-440a-d2c7-591dfbc2b3dd"
      },
      "outputs": [
        {
          "output_type": "stream",
          "name": "stdout",
          "text": [
            "Mounted at /gdrive\n"
          ]
        }
      ],
      "source": [
        "from google.colab import drive\n",
        "drive.mount('/gdrive')"
      ]
    },
    {
      "cell_type": "code",
      "source": [
        "%reset"
      ],
      "metadata": {
        "colab": {
          "base_uri": "https://localhost:8080/"
        },
        "id": "KyBneXzWeYrs",
        "outputId": "131b8913-5247-4024-a4bb-474403eb5dbd"
      },
      "execution_count": null,
      "outputs": [
        {
          "name": "stdout",
          "output_type": "stream",
          "text": [
            "Once deleted, variables cannot be recovered. Proceed (y/[n])? y\n"
          ]
        }
      ]
    },
    {
      "cell_type": "code",
      "source": [
        "import pandas as pd\n",
        "ruta = '/gdrive/MyDrive/Andrea Santos/Banco de dados-V3.xlsx'\n",
        "\n",
        "\n",
        "# Carga la hoja 'Curto-Monofásico' en un DataFrame\n",
        "nombre= 'Curto-Monofásico'\n",
        "df_mono = pd.read_excel(ruta, sheet_name=nombre)\n",
        "df_mono.rename(columns={\"Unnamed: 5\": 'valor'}, inplace=True)\n",
        "# Imprime las primeras filas de la hoja 'Curto-Monofásico'\n",
        "print(f\"\\nPrimeras filas de la hoja '{nombre}':\")\n",
        "print(df_mono.head())\n",
        "\n",
        "# Carga la hoja 'Curto-Bifásico' en un DataFrame\n",
        "nombre= 'Curto-Bifásico'\n",
        "df_bi = pd.read_excel(ruta, sheet_name=nombre)\n",
        "df_bi.rename(columns={\"Unnamed: 11\": 'vazio'}, inplace=True)\n",
        "# Imprime las primeras filas de la hoja 'Curto-Bifásico'\n",
        "print(f\"\\nPrimeras filas de la hoja '{nombre}':\")\n",
        "print(df_bi.head())\n",
        "\n",
        "# Carga la hoja 'Curto-Trifásico' en un DataFrame\n",
        "nombre= 'Curto-Trifásico'\n",
        "df_tri = pd.read_excel(ruta, sheet_name=nombre)\n",
        "df_tri.rename(columns={\"Unnamed: 5\": 'valor'}, inplace=True)\n",
        "# Imprime las primeras filas de la hoja 'Trifásico'\n",
        "print(f\"\\nPrimeras filas de la hoja '{nombre}':\")\n",
        "print(df_tri.head())"
      ],
      "metadata": {
        "colab": {
          "base_uri": "https://localhost:8080/"
        },
        "id": "ql7lQNnfdt41",
        "outputId": "7effd209-53dc-4c5b-f4a7-4f52332e6327"
      },
      "execution_count": 8,
      "outputs": [
        {
          "output_type": "stream",
          "name": "stdout",
          "text": [
            "\n",
            "Primeras filas de la hoja 'Curto-Monofásico':\n",
            "   ITEM Curto Tipo de GD  Barra  Ângulo Resistência   valor       d_A  \\\n",
            "0   1.0    Bg         PV    806                  NaN      0 -0.992379   \n",
            "1   2.0    Ag         PV    806                  NaN      1  0.906638   \n",
            "2   3.0    Cg         PV    806                  NaN      0  0.082423   \n",
            "3   4.0    Bg         PV    806                  NaN      0 -0.991735   \n",
            "4   5.0    Ag         PV    806                  NaN      4  0.882043   \n",
            "\n",
            "        d_B       d_C     Med_A     Med_B     Med_C  FASE A  FASE B  FASE C  \n",
            "0  0.912564  0.079814  0.085963  0.837879  0.076158       0       1       0  \n",
            "1  0.082961 -0.989599  0.841008  0.075763  0.083229       1       0       0  \n",
            "2 -0.988532  0.906109  0.083535  0.089299  0.827166       0       0       1  \n",
            "3  0.925870  0.065865  0.088309  0.835994  0.075697       0       1       0  \n",
            "4  0.104455 -0.986498  0.830501  0.080201  0.089298       1       0       0  \n",
            "\n",
            "Primeras filas de la hoja 'Curto-Bifásico':\n",
            "   ITEM Curto Tipo de GD  Barra  Ângulo Resistência      Med_A     Med_B  \\\n",
            "0   1.0   ACg         PV  860.0                  0.0  0.425944  0.172468   \n",
            "1   2.0   BCg         PV  860.0                  1.0  0.152086  0.427308   \n",
            "2   3.0   ABg         PV  860.0                  0.0  0.415248  0.453407   \n",
            "3   4.0    AC         PV  860.0                  0.0  0.432785  0.199104   \n",
            "4   5.0    BC         PV  860.0                  0.0  0.204604  0.380720   \n",
            "\n",
            "      Med_C  FASE A  FASE B  FASE C  vazio       d_A       d_B       d_C  \\\n",
            "0  0.401587     1.0     0.0     1.0    NaN  0.991039 -0.121598 -0.869441   \n",
            "1  0.420606     0.0     1.0     1.0    NaN -0.114030 -0.879357  0.993387   \n",
            "2  0.131345     1.0     1.0     0.0    NaN -0.901306  0.990808 -0.089503   \n",
            "3  0.368111     1.0     0.0     1.0    NaN  0.979625 -0.135237 -0.844388   \n",
            "4  0.414675     0.0     1.0     1.0    NaN -0.139590 -0.841034  0.980624   \n",
            "\n",
            "   FASE A.1  FASE B.1  FASE C.1  \n",
            "0       1.0       0.0       1.0  \n",
            "1       0.0       1.0       1.0  \n",
            "2       1.0       1.0       0.0  \n",
            "3       1.0       0.0       1.0  \n",
            "4       0.0       1.0       1.0  \n",
            "\n",
            "Primeras filas de la hoja 'Curto-Trifásico':\n",
            "   ITEM Curto Status GD Resistência  Tipo de Falta  valor     Med_A     Med_B  \\\n",
            "0   1.0  ABCg        PV          806        Ângulo    0.0  0.325948  0.340872   \n",
            "1   2.0  ABCg        PV          806   Resistência    1.0  0.328829  0.339757   \n",
            "2   3.0  ABCg        PV          806           NaN    0.0  0.325523  0.341083   \n",
            "3   4.0  ABCg        PV          806           NaN    4.0  0.327916  0.340147   \n",
            "4   5.0  ABCg        PV          806           NaN    0.0  0.325130  0.341213   \n",
            "\n",
            "      Med_C  FASE A  FASE B  FASE C       d_A       d_B       d_C  FASE A.1  \\\n",
            "0  0.333180       1       1       1 -0.191342 -0.025404  0.216747       1.0   \n",
            "1  0.331414       1       1       1 -0.195392 -0.006487  0.201880       1.0   \n",
            "2  0.333395       1       1       1 -0.197086 -0.026582  0.223668       1.0   \n",
            "3  0.331936       1       1       1 -0.187288 -0.017721  0.205010       1.0   \n",
            "4  0.333657       1       1       1 -0.194800 -0.030422  0.225221       1.0   \n",
            "\n",
            "   FASE B.1  FASE C.1  \n",
            "0       1.0       1.0  \n",
            "1       1.0       1.0  \n",
            "2       1.0       1.0  \n",
            "3       1.0       1.0  \n",
            "4       1.0       1.0  \n"
          ]
        }
      ]
    },
    {
      "cell_type": "markdown",
      "source": [
        "#SEPARAÇÃO DE DADOS POR TIPO DE CURTO E TIPO GERAÇÃO DISTRIBUIDA"
      ],
      "metadata": {
        "id": "3iPFqHCTJ3_9"
      }
    },
    {
      "cell_type": "code",
      "source": [
        "conteo_pv = df_mono['Tipo de GD'].value_counts()\n",
        "print(\"Conteo de tipos 'PV' en la columna 'Tipo de GD':\\n\", conteo_pv)"
      ],
      "metadata": {
        "colab": {
          "base_uri": "https://localhost:8080/"
        },
        "id": "5HWQkijzLZDF",
        "outputId": "b13e72e5-684a-4a50-c4dd-0e75a4be0f4b"
      },
      "execution_count": 17,
      "outputs": [
        {
          "output_type": "stream",
          "name": "stdout",
          "text": [
            "Conteo de tipos 'PV' en la columna 'Tipo de GD':\n",
            " Tipo de GD\n",
            "Sem GD    673\n",
            "2PV       673\n",
            "PV        672\n",
            "3PV       672\n",
            "Name: count, dtype: int64\n"
          ]
        }
      ]
    },
    {
      "cell_type": "code",
      "source": [
        "import numpy as np\n",
        "np.set_printoptions(suppress=False)\n",
        "\n",
        "\n",
        "grupos_pv = df_mono.groupby('Tipo de GD')    # Agrupar el DataFrame por el tipo de GD\n",
        "dataframes_separados = {}               # Crear un diccionario para almacenar los DataFrames separados\n",
        "\n",
        "for tipo, grupo in grupos_pv:           # Iterar sobre cada grupo y crear un DataFrame separado para cada tipo de PV\n",
        "    dataframes_separados[tipo] = grupo\n",
        "\n",
        "df_pv1 = dataframes_separados['PV']    # Acceder a los DataFrames separados por tipo de PV\n",
        "df_pv2 = dataframes_separados['2PV']\n",
        "df_pv3 = dataframes_separados['3PV']\n",
        "df_sem = dataframes_separados['Sem GD']\n",
        "\n",
        "pv1 = df_pv1.iloc[:, -6:]\n",
        "pv1 = pv1.to_numpy()\n",
        "pv2 = df_pv2.iloc[:, -6:]\n",
        "pv2 = pv2.to_numpy()\n",
        "pv3 = df_pv3.iloc[:, -6:]\n",
        "pv3 = pv3.to_numpy()\n",
        "sem = df_sem.iloc[:, -6:]\n",
        "sem = sem.to_numpy()\n",
        "\n",
        "\n",
        "\n",
        "# grupos_pv = df_bi.groupby('Tipo de GD')    # Agrupar el DataFrame por el tipo de GD\n",
        "# dataframes_separados = {}               # Crear un diccionario para almacenar los DataFrames separados\n",
        "\n",
        "# for tipo, grupo in grupos_pv:           # Iterar sobre cada grupo y crear un DataFrame separado para cada tipo de PV\n",
        "#     dataframes_separados[tipo] = grupo\n",
        "\n",
        "# df_pv1 = dataframes_separados['PV']    # Acceder a los DataFrames separados por tipo de PV\n",
        "# df_pv2 = dataframes_separados['2PV']\n",
        "# df_pv3 = dataframes_separados['3PV']\n",
        "# df_sem = dataframes_separados['Sem GD']\n",
        "# pv1 = df_pv1.iloc[:, 5:11]\n",
        "# pv1 = pv1.to_numpy()\n",
        "# pv2 = df_pv2.iloc[:, 5:11]\n",
        "# pv2 = pv2.to_numpy()\n",
        "# pv3 = df_pv3.iloc[:, 5:11]\n",
        "# pv3 = pv3.to_numpy()\n",
        "# sem = df_sem.iloc[:, 5:11]\n",
        "# sem = sem.to_numpy()\n",
        "\n",
        "\n",
        "\n",
        "# grupos_pv = df_tri.groupby('Tipo de GD')    # Agrupar el DataFrame por el tipo de GD\n",
        "# dataframes_separados = {}               # Crear un diccionario para almacenar los DataFrames separados\n",
        "\n",
        "# for tipo, grupo in grupos_pv:           # Iterar sobre cada grupo y crear un DataFrame separado para cada tipo de PV\n",
        "#     dataframes_separados[tipo] = grupo\n",
        "\n",
        "# df_pv1 = dataframes_separados['PV']    # Acceder a los DataFrames separados por tipo de PV\n",
        "# df_pv2 = dataframes_separados['2PV']\n",
        "# df_pv3 = dataframes_separados['3PV']\n",
        "# df_sem = dataframes_separados['Sem GD']\n",
        "# pv1 = df_pv1.iloc[:, 6:12]\n",
        "# pv1 = pv1.to_numpy()\n",
        "# pv2 = df_pv2.iloc[:, 6:12]\n",
        "# pv2 = pv2.to_numpy()\n",
        "# pv3 = df_pv3.iloc[:, 6:12]\n",
        "# pv3 = pv3.to_numpy()\n",
        "# sem = df_sem.iloc[:, 6:12]\n",
        "# sem = sem.to_numpy()"
      ],
      "metadata": {
        "id": "LJw1VeVAe0yX"
      },
      "execution_count": 19,
      "outputs": []
    },
    {
      "cell_type": "code",
      "source": [
        "print(pv1.shape, pv2.shape, pv3.shape, sem.shape)"
      ],
      "metadata": {
        "colab": {
          "base_uri": "https://localhost:8080/"
        },
        "id": "LDB4nAm9ORDm",
        "outputId": "3c0ab8f3-17fc-4a86-dff1-0cdd7a0f84ad"
      },
      "execution_count": 20,
      "outputs": [
        {
          "output_type": "stream",
          "name": "stdout",
          "text": [
            "(672, 6) (673, 6) (672, 6) (673, 6)\n"
          ]
        }
      ]
    },
    {
      "cell_type": "markdown",
      "source": [
        "Contando as classes dos cortos Monofásicos apartir do meu dataframe (Curtos nas fases A, B o C)"
      ],
      "metadata": {
        "id": "VAyzglXDsSHc"
      }
    },
    {
      "cell_type": "code",
      "source": [
        "pv1"
      ],
      "metadata": {
        "colab": {
          "base_uri": "https://localhost:8080/"
        },
        "id": "lfVWvL2uQGTW",
        "outputId": "a49713ee-17bb-4abb-e5cf-bc7890bd409e"
      },
      "execution_count": 22,
      "outputs": [
        {
          "output_type": "execute_result",
          "data": {
            "text/plain": [
              "array([[0.08596305, 0.83787872, 0.07615823, 0.        , 1.        ,\n",
              "        0.        ],\n",
              "       [0.84100843, 0.07576265, 0.08322892, 1.        , 0.        ,\n",
              "        0.        ],\n",
              "       [0.08353488, 0.08929883, 0.8271663 , 0.        , 0.        ,\n",
              "        1.        ],\n",
              "       ...,\n",
              "       [0.19497136, 0.61891312, 0.18611552, 0.        , 1.        ,\n",
              "        0.        ],\n",
              "       [0.60807082, 0.19750599, 0.19442318, 1.        , 0.        ,\n",
              "        0.        ],\n",
              "       [0.13248915, 1.        , 0.11520319, 0.        , 1.        ,\n",
              "        0.        ]])"
            ]
          },
          "metadata": {},
          "execution_count": 22
        }
      ]
    },
    {
      "cell_type": "markdown",
      "source": [
        "Só conferindo quantidade de classes A, B ou C por cada tipo de GD"
      ],
      "metadata": {
        "id": "cWAN5QE9TyDv"
      }
    },
    {
      "cell_type": "code",
      "source": [
        "num_clase_A = np.sum(pv1[:, -3])  # Sumar valores de la columna -3 (clase A)\n",
        "num_clase_B = np.sum(pv1[:, -2])  # Sumar valores de la columna -2 (clase B)\n",
        "num_clase_C = np.sum(pv1[:, -1])  # Sumar valores de la última columna (clase C)\n",
        "print(\"Cantidad de datos para la clase A(PV1):\", num_clase_A), print(\"Cantidad de datos para la clase B(PV1):\", num_clase_B), print(\"Cantidad de datos para la clase C(PV1):\", num_clase_C)\n",
        "\n",
        "num_clase_A = np.sum(pv2[:, -3])  # Sumar valores de la columna -3 (clase A)\n",
        "num_clase_B = np.sum(pv2[:, -2])  # Sumar valores de la columna -2 (clase B)\n",
        "num_clase_C = np.sum(pv2[:, -1])  # Sumar valores de la última columna (clase C)\n",
        "print(\"Cantidad de datos para la clase A(PV2):\", num_clase_A), print(\"Cantidad de datos para la clase B(PV2):\", num_clase_B), print(\"Cantidad de datos para la clase C(PV2):\", num_clase_C)\n",
        "\n",
        "num_clase_A = np.sum(pv3[:, -3])  # Sumar valores de la columna -3 (clase A)\n",
        "num_clase_B = np.sum(pv3[:, -2])  # Sumar valores de la columna -2 (clase B)\n",
        "num_clase_C = np.sum(pv3[:, -1])  # Sumar valores de la última columna (clase C)\n",
        "print(\"Cantidad de datos para la clase A(PV3):\", num_clase_A), print(\"Cantidad de datos para la clase B(PV3):\", num_clase_B), print(\"Cantidad de datos para la clase C(PV3):\", num_clase_C)\n",
        "num_clase_A = np.sum(sem[:, -3])  # Sumar valores de la columna -3 (clase A)\n",
        "num_clase_B = np.sum(sem[:, -2])  # Sumar valores de la columna -2 (clase B)\n",
        "num_clase_C = np.sum(sem[:, -1])  # Sumar valores de la última columna (clase C)\n",
        "print(\"Cantidad de datos para la clase A(sem GD):\", num_clase_A), print(\"Cantidad de datos para la clase B(sem GD):\", num_clase_B), print(\"Cantidad de datos para la clase C(sem GD):\", num_clase_C)"
      ],
      "metadata": {
        "colab": {
          "base_uri": "https://localhost:8080/"
        },
        "id": "qzgoNIAkrnhs",
        "outputId": "e7a75c83-2817-4c36-fcfa-91716fc77d7c"
      },
      "execution_count": 25,
      "outputs": [
        {
          "output_type": "stream",
          "name": "stdout",
          "text": [
            "Cantidad de datos para la clase A(PV1): 216.0\n",
            "Cantidad de datos para la clase B(PV1): 229.0\n",
            "Cantidad de datos para la clase C(PV1): 227.0\n",
            "Cantidad de datos para la clase A(PV2): 225.0\n",
            "Cantidad de datos para la clase B(PV2): 223.0\n",
            "Cantidad de datos para la clase C(PV2): 225.0\n",
            "Cantidad de datos para la clase A(PV3): 224.0\n",
            "Cantidad de datos para la clase B(PV3): 224.0\n",
            "Cantidad de datos para la clase C(PV3): 224.0\n",
            "Cantidad de datos para la clase A(sem GD): 226.0\n",
            "Cantidad de datos para la clase B(sem GD): 224.0\n",
            "Cantidad de datos para la clase C(sem GD): 223.0\n"
          ]
        },
        {
          "output_type": "execute_result",
          "data": {
            "text/plain": [
              "(None, None, None)"
            ]
          },
          "metadata": {},
          "execution_count": 25
        }
      ]
    },
    {
      "cell_type": "markdown",
      "source": [
        "Gerando o set de treinamento e teste a partir dos dados Monofásico por cada tipo de GD"
      ],
      "metadata": {
        "id": "GksrxgSkWn3j"
      }
    },
    {
      "cell_type": "code",
      "source": [
        "from sklearn.model_selection import train_test_split\n",
        "\n",
        "\n",
        "# Dividir la matriz y la clase en conjuntos de entrenamiento y prueba (80/20)\n",
        "clase = X1[:, -3:]\n",
        "x_train, x_test, y_train, y_test = train_test_split(X1[:, 0:3], clase, test_size=0.5, random_state=42, stratify=clase)\n",
        "\n",
        "# Imprimir el tamaño de los conjuntos de entrenamiento y prueba\n",
        "print(\"Tamaño de x_train:\", x_train.shape)\n",
        "print(\"Tamaño de y_train:\", y_train.shape)"
      ],
      "metadata": {
        "colab": {
          "base_uri": "https://localhost:8080/"
        },
        "id": "RwCmD6DmtjJZ",
        "outputId": "63393b20-8e1c-4f91-d7db-4156ebeca957"
      },
      "execution_count": null,
      "outputs": [
        {
          "output_type": "stream",
          "name": "stdout",
          "text": [
            "Tamaño de x_train: (1345, 3)\n",
            "Tamaño de y_train: (1345, 3)\n",
            "Tamaño de x_test: (1345, 3)\n",
            "Tamaño de y_test: (1345, 3)\n"
          ]
        }
      ]
    },
    {
      "cell_type": "markdown",
      "source": [
        "**Separamos el set de entrenamiento por clase** para treinar o Autoencoder só com uma das classes."
      ],
      "metadata": {
        "id": "drVlGsieIg6V"
      }
    },
    {
      "cell_type": "markdown",
      "source": [
        "Clase A"
      ],
      "metadata": {
        "id": "I_mZAAjHIoFn"
      }
    },
    {
      "cell_type": "code",
      "source": [
        "A_train = x_train[y_train[:,0] == 1]\n",
        "A_test = x_test[y_test[:,0] == 1]\n",
        "print(\"Dimensiones de A_train:\", A_train.shape)\n",
        "print(\"Dimensiones de A_test:\", A_test.shape)"
      ],
      "metadata": {
        "id": "oGY_tZpWIgVe"
      },
      "execution_count": null,
      "outputs": []
    },
    {
      "cell_type": "code",
      "source": [],
      "metadata": {
        "colab": {
          "base_uri": "https://localhost:8080/"
        },
        "id": "_h-UIgAttkWZ",
        "outputId": "eaaecb7e-a81a-4df4-ff9b-5af753a76eb8"
      },
      "execution_count": null,
      "outputs": [
        {
          "output_type": "stream",
          "name": "stdout",
          "text": [
            "Dimensiones de A_train: (446, 3)\n",
            "Dimensiones de A_test: (445, 3)\n"
          ]
        }
      ]
    },
    {
      "cell_type": "markdown",
      "source": [
        "Classe B"
      ],
      "metadata": {
        "id": "_Gc036o-oG0U"
      }
    },
    {
      "cell_type": "code",
      "source": [
        "B_train = x_train[y_train[:,1] == 1]\n",
        "B_test = x_test[y_test[:,1] == 1]\n",
        "print(\"Dimensiones de A_train:\", B_train.shape)\n",
        "print(\"Dimensiones de A_test:\", B_test.shape)"
      ],
      "metadata": {
        "colab": {
          "base_uri": "https://localhost:8080/"
        },
        "id": "ECI6DHGMoIW7",
        "outputId": "7ef78828-2710-46fb-e823-c56f8ec62bf9"
      },
      "execution_count": null,
      "outputs": [
        {
          "output_type": "stream",
          "name": "stdout",
          "text": [
            "Dimensiones de A_train: (450, 3)\n",
            "Dimensiones de A_test: (450, 3)\n"
          ]
        }
      ]
    },
    {
      "cell_type": "markdown",
      "source": [
        "Classe C"
      ],
      "metadata": {
        "id": "jW1c_I1QoVnf"
      }
    },
    {
      "cell_type": "code",
      "source": [
        "C_train = x_train[y_train[:,2] == 1]\n",
        "C_test = x_test[y_test[:,2] == 1]\n",
        "print(\"Dimensiones de A_train:\", C_train.shape)\n",
        "print(\"Dimensiones de A_test:\", C_test.shape)"
      ],
      "metadata": {
        "colab": {
          "base_uri": "https://localhost:8080/"
        },
        "id": "yB3MmxnPoW78",
        "outputId": "458817c1-04f7-4d15-e510-7b5ab728af34"
      },
      "execution_count": null,
      "outputs": [
        {
          "output_type": "stream",
          "name": "stdout",
          "text": [
            "Dimensiones de A_train: (449, 3)\n",
            "Dimensiones de A_test: (450, 3)\n"
          ]
        }
      ]
    },
    {
      "cell_type": "markdown",
      "source": [
        "# Treinamento Autoencoder com dados da classe A"
      ],
      "metadata": {
        "id": "8a6Z06mR7yNE"
      }
    },
    {
      "cell_type": "markdown",
      "source": [
        "Autoencoder_A"
      ],
      "metadata": {
        "id": "7-5cO0cy75xm"
      }
    },
    {
      "cell_type": "code",
      "source": [
        "from tensorflow.keras.models import Model\n",
        "from tensorflow.keras.layers import Input, Dense\n",
        "#np.random.seed(23)\n",
        "\n",
        "dim_entrada = A_train.shape[1]\n",
        "entrada = Input(shape=(dim_entrada,))\n",
        "\n",
        "# Encoder\n",
        "encoder = Dense(2, activation='relu')(entrada)\n",
        "encoder = Dense(1, activation='relu')(encoder)\n",
        "\n",
        "# Decoder\n",
        "decoder = Dense(2, activation='relu')(encoder)\n",
        "decoder = Dense(3, activation='sigmoid')(decoder)\n",
        "\n",
        "# Autoencoder = entrada + decoder (que ya contiene el encoder)\n",
        "autoencoder_A = Model(inputs=entrada, outputs=decoder)\n",
        "\n",
        "autoencoder_A.summary()"
      ],
      "metadata": {
        "colab": {
          "base_uri": "https://localhost:8080/"
        },
        "id": "d4LD4WPL74i_",
        "outputId": "cc367f0b-05fa-45b2-95fd-a06a05f3447c"
      },
      "execution_count": null,
      "outputs": [
        {
          "output_type": "stream",
          "name": "stdout",
          "text": [
            "Model: \"model_2\"\n",
            "_________________________________________________________________\n",
            " Layer (type)                Output Shape              Param #   \n",
            "=================================================================\n",
            " input_3 (InputLayer)        [(None, 3)]               0         \n",
            "                                                                 \n",
            " dense_8 (Dense)             (None, 2)                 8         \n",
            "                                                                 \n",
            " dense_9 (Dense)             (None, 1)                 3         \n",
            "                                                                 \n",
            " dense_10 (Dense)            (None, 2)                 4         \n",
            "                                                                 \n",
            " dense_11 (Dense)            (None, 3)                 9         \n",
            "                                                                 \n",
            "=================================================================\n",
            "Total params: 24 (96.00 Byte)\n",
            "Trainable params: 24 (96.00 Byte)\n",
            "Non-trainable params: 0 (0.00 Byte)\n",
            "_________________________________________________________________\n"
          ]
        }
      ]
    },
    {
      "cell_type": "markdown",
      "source": [
        "Optimización y Entrenamiento"
      ],
      "metadata": {
        "id": "tVppPVBP_Mdy"
      }
    },
    {
      "cell_type": "code",
      "source": [
        "autoencoder_A.compile(optimizer='adam', loss='mae', metrics=['accuracy'])\n",
        "historia = autoencoder_A.fit(A_train, A_train,\n",
        "          epochs=20,\n",
        "          batch_size=50,\n",
        "          validation_data=(A_test, A_test),\n",
        "          shuffle=True)"
      ],
      "metadata": {
        "colab": {
          "base_uri": "https://localhost:8080/"
        },
        "id": "TmPd4AFF_Nf9",
        "outputId": "a03b71b9-180b-440e-9e0f-c0ffc3a606e5"
      },
      "execution_count": null,
      "outputs": [
        {
          "output_type": "stream",
          "name": "stdout",
          "text": [
            "Epoch 1/20\n",
            "9/9 [==============================] - 1s 28ms/step - loss: 0.2477 - accuracy: 1.0000 - val_loss: 0.2531 - val_accuracy: 0.9978\n",
            "Epoch 2/20\n",
            "9/9 [==============================] - 0s 9ms/step - loss: 0.2460 - accuracy: 1.0000 - val_loss: 0.2513 - val_accuracy: 0.9978\n",
            "Epoch 3/20\n",
            "9/9 [==============================] - 0s 7ms/step - loss: 0.2442 - accuracy: 1.0000 - val_loss: 0.2496 - val_accuracy: 0.9978\n",
            "Epoch 4/20\n",
            "9/9 [==============================] - 0s 9ms/step - loss: 0.2424 - accuracy: 1.0000 - val_loss: 0.2479 - val_accuracy: 0.9978\n",
            "Epoch 5/20\n",
            "9/9 [==============================] - 0s 8ms/step - loss: 0.2407 - accuracy: 1.0000 - val_loss: 0.2462 - val_accuracy: 0.9978\n",
            "Epoch 6/20\n",
            "9/9 [==============================] - 0s 8ms/step - loss: 0.2390 - accuracy: 1.0000 - val_loss: 0.2445 - val_accuracy: 0.9978\n",
            "Epoch 7/20\n",
            "9/9 [==============================] - 0s 8ms/step - loss: 0.2373 - accuracy: 1.0000 - val_loss: 0.2427 - val_accuracy: 0.9978\n",
            "Epoch 8/20\n",
            "9/9 [==============================] - 0s 8ms/step - loss: 0.2356 - accuracy: 1.0000 - val_loss: 0.2410 - val_accuracy: 0.9978\n",
            "Epoch 9/20\n",
            "9/9 [==============================] - 0s 7ms/step - loss: 0.2339 - accuracy: 1.0000 - val_loss: 0.2394 - val_accuracy: 0.9978\n",
            "Epoch 10/20\n",
            "9/9 [==============================] - 0s 9ms/step - loss: 0.2323 - accuracy: 1.0000 - val_loss: 0.2377 - val_accuracy: 0.9978\n",
            "Epoch 11/20\n",
            "9/9 [==============================] - 0s 14ms/step - loss: 0.2306 - accuracy: 1.0000 - val_loss: 0.2360 - val_accuracy: 0.9978\n",
            "Epoch 12/20\n",
            "9/9 [==============================] - 0s 9ms/step - loss: 0.2289 - accuracy: 1.0000 - val_loss: 0.2343 - val_accuracy: 0.9978\n",
            "Epoch 13/20\n",
            "9/9 [==============================] - 0s 8ms/step - loss: 0.2273 - accuracy: 1.0000 - val_loss: 0.2327 - val_accuracy: 0.9978\n",
            "Epoch 14/20\n",
            "9/9 [==============================] - 0s 8ms/step - loss: 0.2256 - accuracy: 1.0000 - val_loss: 0.2310 - val_accuracy: 0.9978\n",
            "Epoch 15/20\n",
            "9/9 [==============================] - 0s 8ms/step - loss: 0.2240 - accuracy: 1.0000 - val_loss: 0.2294 - val_accuracy: 0.9978\n",
            "Epoch 16/20\n",
            "9/9 [==============================] - 0s 8ms/step - loss: 0.2223 - accuracy: 1.0000 - val_loss: 0.2277 - val_accuracy: 0.9978\n",
            "Epoch 17/20\n",
            "9/9 [==============================] - 0s 7ms/step - loss: 0.2207 - accuracy: 1.0000 - val_loss: 0.2261 - val_accuracy: 0.9978\n",
            "Epoch 18/20\n",
            "9/9 [==============================] - 0s 9ms/step - loss: 0.2191 - accuracy: 1.0000 - val_loss: 0.2245 - val_accuracy: 0.9978\n",
            "Epoch 19/20\n",
            "9/9 [==============================] - 0s 8ms/step - loss: 0.2176 - accuracy: 1.0000 - val_loss: 0.2229 - val_accuracy: 0.9978\n",
            "Epoch 20/20\n",
            "9/9 [==============================] - 0s 8ms/step - loss: 0.2160 - accuracy: 1.0000 - val_loss: 0.2214 - val_accuracy: 0.9978\n"
          ]
        }
      ]
    },
    {
      "cell_type": "code",
      "source": [
        "import matplotlib.pyplot as plt\n",
        "plt.figure(5, figsize=(15,5))\n",
        "plt.subplot(1,2,1)\n",
        "plt.plot(historia.history[\"loss\"], label=\"Pérdida set entrenamiento\")\n",
        "plt.plot(historia.history[\"val_loss\"], label=\"Pérdida set prueba\")\n",
        "plt.legend()\n",
        "plt.subplot(1,2,2)\n",
        "plt.plot(historia.history[\"accuracy\"], label=\"Tasa de acierto en entrenamiento\")\n",
        "plt.plot(historia.history[\"val_accuracy\"], label=\"Tasa de acierto en teste\")\n",
        "plt.xlabel('Epocas')\n",
        "plt.legend()"
      ],
      "metadata": {
        "colab": {
          "base_uri": "https://localhost:8080/",
          "height": 483
        },
        "id": "IV-r5DrQ_aZi",
        "outputId": "073245be-ff14-4fc4-b5cf-552155cf407d"
      },
      "execution_count": null,
      "outputs": [
        {
          "output_type": "execute_result",
          "data": {
            "text/plain": [
              "<matplotlib.legend.Legend at 0x7f67c313b280>"
            ]
          },
          "metadata": {},
          "execution_count": 38
        },
        {
          "output_type": "display_data",
          "data": {
            "text/plain": [
              "<Figure size 1500x500 with 2 Axes>"
            ],
            "image/png": "[encoded data removed]"
          },
          "metadata": {}
        }
      ]
    },
    {
      "cell_type": "markdown",
      "source": [
        "Conferindo a Reconstrução dos dados de Clase A, com outros dados de classe B e C"
      ],
      "metadata": {
        "id": "fcTeeAFd_u-h"
      }
    },
    {
      "cell_type": "markdown",
      "source": [
        "Formando conjunto de dados de fases B e C"
      ],
      "metadata": {
        "id": "GSrNlIX6CcrO"
      }
    },
    {
      "cell_type": "markdown",
      "source": [
        "Concatenando os dados das fases B e C"
      ],
      "metadata": {
        "id": "-EislHyYEOE1"
      }
    },
    {
      "cell_type": "code",
      "source": [
        "fase_B_C = np.vstack((B_test, C_test))\n",
        "print(fase_B_C.shape)"
      ],
      "metadata": {
        "colab": {
          "base_uri": "https://localhost:8080/"
        },
        "id": "Gb8IwSaXD-NJ",
        "outputId": "8f224e84-fe8e-48aa-9962-26fe39c4a7d1"
      },
      "execution_count": null,
      "outputs": [
        {
          "output_type": "stream",
          "name": "stdout",
          "text": [
            "(900, 3)\n"
          ]
        }
      ]
    },
    {
      "cell_type": "markdown",
      "source": [
        "Observando o Modelo Autoencoder_A quando tem que reconstruir dados das classes B e C"
      ],
      "metadata": {
        "id": "9AdRF2rdo_yP"
      }
    },
    {
      "cell_type": "code",
      "source": [
        "import random\n",
        "\n",
        "# ¿Qué tan bien reconstruye un dato \"normal\" y uno anormal?\n",
        "rec_normal = autoencoder_A(A_test).numpy()\n",
        "rec_anormal = autoencoder_A(fase_B_C).numpy()\n",
        "\n",
        "dato =  random.randint(1, 450)\n",
        "plt.figure(figsize=(15,5))\n",
        "plt.subplot(1,2,1)\n",
        "plt.plot(A_test[dato],'b')\n",
        "plt.plot(rec_normal[dato],'r')\n",
        "plt.fill_between(np.arange(3), rec_normal[dato], A_test[dato], color='lightcoral')\n",
        "plt.legend(labels=[\"Fase A\", \"Reconstrução\", \"Erro\"])\n",
        "plt.subplot(1,2,2)\n",
        "plt.plot(fase_B_C[dato],'b')\n",
        "plt.plot(rec_anormal[dato],'r')\n",
        "plt.fill_between(np.arange(3), rec_anormal[dato], fase_B_C[dato], color='lightcoral')\n",
        "plt.legend(labels=[\"Fase B ou C\", \"Reconstrução\", \"Erro\"])"
      ],
      "metadata": {
        "colab": {
          "base_uri": "https://localhost:8080/",
          "height": 463
        },
        "id": "IcjreLor_twy",
        "outputId": "faa6fc54-fa5b-4534-ce35-0586ba4d8070"
      },
      "execution_count": null,
      "outputs": [
        {
          "output_type": "execute_result",
          "data": {
            "text/plain": [
              "<matplotlib.legend.Legend at 0x7f67c31750f0>"
            ]
          },
          "metadata": {},
          "execution_count": 40
        },
        {
          "output_type": "display_data",
          "data": {
            "text/plain": [
              "<Figure size 1500x500 with 2 Axes>"
            ],
            "image/png": "[encoded data removed]"
          },
          "metadata": {}
        }
      ]
    },
    {
      "cell_type": "markdown",
      "source": [
        "Calculando o Erro de reconstrução"
      ],
      "metadata": {
        "id": "8iNYS2qdG7bj"
      }
    },
    {
      "cell_type": "code",
      "source": [
        "# Distribuciones de los errores de construcción\n",
        "# para cada categoría\n",
        "import tensorflow as tf\n",
        "\n",
        "rec_1 = autoencoder_A.predict(A_test)\n",
        "rec_2 = autoencoder_A.predict(fase_B_C)\n",
        "\n",
        "\n",
        "loss_1 = tf.keras.losses.mae(rec_1, A_test)\n",
        "loss_2 = tf.keras.losses.mae(rec_2, fase_B_C)\n",
        "\n",
        "umbral = np.mean(loss_1) + np.std(loss_1)\n",
        "print(\"Umbral: \", umbral)\n",
        "\n",
        "plt.figure(figsize=(15,8))\n",
        "plt.hist(loss_1[None,:], bins=200, alpha=0.75, label='Fase A')\n",
        "plt.hist(loss_2[None,:], bins=200, alpha=0.5, color='#ff521b', label='Fases B e C')\n",
        "\n",
        "plt.xlabel('Pérdidas (MAE)')\n",
        "plt.ylabel('Nro. ejemplos')\n",
        "plt.legend(loc='upper right')\n",
        "plt.vlines(umbral,0,60,'k')"
      ],
      "metadata": {
        "id": "AL3ktXBWG_Pe"
      },
      "execution_count": null,
      "outputs": []
    },
    {
      "cell_type": "code",
      "source": [
        "# Calcular predicciones individuales\n",
        "def predecir(modelo, datos, umbral):\n",
        "  reconstrucciones = modelo(datos)\n",
        "  perdida = tf.keras.losses.mae(reconstrucciones, datos)\n",
        "  return tf.math.less(perdida, umbral)\n",
        "\n",
        "def calcular_sensitividad(prediccion, titulo):\n",
        "  TP = np.count_nonzero(~prediccion)\n",
        "  FN = np.count_nonzero(prediccion)\n",
        "  sen = 100*(TP/(TP+FN))\n",
        "\n",
        "  print(titulo + ': {:.1f}%'.format(sen))\n",
        "\n",
        "def calcular_especificidad(prediccion, titulo):\n",
        "  TN = np.count_nonzero(prediccion)\n",
        "  FP = np.count_nonzero(~prediccion)\n",
        "  esp = 100*(TN/(TN+FP))\n",
        "\n",
        "  print(titulo + ': {:.1f}%'.format(esp))\n",
        "  return esp"
      ],
      "metadata": {
        "id": "oXTDxURtJVpi"
      },
      "execution_count": null,
      "outputs": []
    },
    {
      "cell_type": "code",
      "source": [
        "# Predicciones\n",
        "pred_A = predecir(autoencoder_A, A_test, umbral)\n",
        "pred_B = predecir(autoencoder_A, B_train, umbral)\n",
        "pred_C = predecir(autoencoder_A, C_train, umbral)\n",
        "\n",
        "\n",
        "# Pred1: especificidad\n",
        "esp_1 = calcular_especificidad(pred_A,'Especificidad (Fase A)')\n",
        "\n",
        "# Pred 2 a 5: sensitividad\n",
        "sen_2 = calcular_sensitividad(pred_B,'Sensitividad (Fase B)')\n",
        "sen_3 = calcular_sensitividad(pred_C,'Sensitividad (Fase C)')\n"
      ],
      "metadata": {
        "colab": {
          "base_uri": "https://localhost:8080/"
        },
        "id": "Lkf-GPNxJeaF",
        "outputId": "8b63e13b-7985-4753-d1b7-834d86ae4599"
      },
      "execution_count": null,
      "outputs": [
        {
          "output_type": "stream",
          "name": "stdout",
          "text": [
            "Especificidad (Fase A): 75.8%\n",
            "Sensitividad (Fase B): 31.0%\n",
            "Sensitividad (Fase C): 31.6%\n"
          ]
        }
      ]
    },
    {
      "cell_type": "code",
      "source": [
        "pred_C"
      ],
      "metadata": {
        "colab": {
          "base_uri": "https://localhost:8080/"
        },
        "id": "MLkR9w_gVDaL",
        "outputId": "25edd621-cfda-4fc5-eca6-c2a1de93e144"
      },
      "execution_count": null,
      "outputs": [
        {
          "output_type": "execute_result",
          "data": {
            "text/plain": [
              "<tf.Tensor: shape=(719,), dtype=bool, numpy=\n",
              "array([ True, False,  True,  True, False,  True,  True, False,  True,\n",
              "        True,  True,  True, False,  True, False,  True, False,  True,\n",
              "        True,  True,  True, False, False,  True, False,  True, False,\n",
              "       False,  True,  True,  True, False, False, False, False,  True,\n",
              "        True, False,  True,  True,  True,  True,  True,  True,  True,\n",
              "        True,  True, False, False, False, False,  True,  True, False,\n",
              "       False,  True,  True,  True,  True,  True, False, False,  True,\n",
              "        True, False,  True, False,  True,  True, False, False,  True,\n",
              "        True,  True,  True, False,  True,  True, False,  True,  True,\n",
              "        True,  True, False,  True,  True,  True,  True, False, False,\n",
              "        True, False,  True, False,  True, False,  True,  True,  True,\n",
              "        True,  True,  True,  True,  True, False,  True, False,  True,\n",
              "        True,  True,  True,  True, False,  True, False,  True, False,\n",
              "        True, False,  True,  True, False,  True,  True,  True,  True,\n",
              "        True,  True,  True,  True, False, False,  True,  True,  True,\n",
              "        True, False,  True,  True, False,  True, False, False,  True,\n",
              "        True,  True,  True,  True,  True, False, False,  True, False,\n",
              "        True, False,  True,  True, False,  True,  True,  True,  True,\n",
              "        True, False, False,  True, False,  True, False,  True, False,\n",
              "       False, False,  True,  True,  True,  True,  True,  True, False,\n",
              "        True,  True, False,  True, False,  True, False, False,  True,\n",
              "        True, False, False,  True,  True, False, False, False,  True,\n",
              "        True,  True,  True,  True,  True,  True,  True,  True,  True,\n",
              "        True,  True,  True,  True,  True, False, False,  True,  True,\n",
              "       False,  True,  True,  True,  True,  True,  True,  True, False,\n",
              "        True,  True, False,  True,  True,  True,  True,  True,  True,\n",
              "       False,  True,  True,  True,  True,  True,  True, False,  True,\n",
              "        True, False,  True,  True,  True,  True,  True,  True,  True,\n",
              "       False, False,  True,  True,  True, False, False,  True,  True,\n",
              "        True,  True, False,  True,  True,  True,  True, False,  True,\n",
              "        True,  True,  True,  True,  True,  True,  True,  True,  True,\n",
              "       False,  True,  True, False,  True, False, False,  True,  True,\n",
              "        True, False,  True,  True, False,  True, False,  True, False,\n",
              "        True,  True,  True, False, False,  True,  True,  True, False,\n",
              "        True,  True,  True, False,  True,  True, False, False,  True,\n",
              "       False,  True,  True, False,  True,  True,  True, False,  True,\n",
              "       False,  True,  True,  True,  True,  True,  True, False,  True,\n",
              "        True,  True, False, False,  True,  True,  True,  True,  True,\n",
              "        True,  True,  True,  True,  True,  True,  True,  True, False,\n",
              "       False,  True,  True,  True,  True,  True,  True,  True,  True,\n",
              "       False,  True, False,  True, False,  True, False,  True, False,\n",
              "        True,  True,  True,  True, False, False, False, False,  True,\n",
              "        True,  True, False, False,  True, False, False, False,  True,\n",
              "        True,  True, False,  True,  True, False,  True,  True, False,\n",
              "        True, False,  True, False,  True, False, False,  True,  True,\n",
              "        True, False, False, False,  True, False,  True,  True,  True,\n",
              "        True,  True,  True,  True, False,  True,  True,  True, False,\n",
              "        True, False,  True,  True, False,  True, False, False, False,\n",
              "        True, False,  True,  True,  True,  True,  True,  True,  True,\n",
              "        True,  True,  True, False, False,  True,  True,  True,  True,\n",
              "        True,  True,  True, False, False,  True,  True,  True,  True,\n",
              "        True,  True,  True,  True,  True,  True,  True,  True,  True,\n",
              "       False, False,  True,  True,  True,  True, False,  True,  True,\n",
              "       False,  True,  True,  True,  True, False,  True, False,  True,\n",
              "       False,  True, False, False,  True,  True, False,  True,  True,\n",
              "        True,  True, False, False,  True,  True,  True,  True,  True,\n",
              "       False,  True,  True,  True,  True, False,  True,  True,  True,\n",
              "        True,  True,  True, False,  True,  True,  True,  True,  True,\n",
              "       False, False,  True, False, False,  True,  True,  True,  True,\n",
              "        True,  True,  True,  True,  True,  True,  True, False,  True,\n",
              "        True, False, False, False, False,  True,  True,  True,  True,\n",
              "        True, False,  True,  True,  True, False, False, False,  True,\n",
              "        True,  True,  True, False,  True,  True,  True,  True,  True,\n",
              "        True,  True,  True, False,  True,  True,  True, False, False,\n",
              "        True,  True,  True,  True,  True,  True,  True,  True,  True,\n",
              "        True,  True,  True,  True,  True,  True,  True,  True,  True,\n",
              "       False,  True,  True,  True,  True, False,  True,  True,  True,\n",
              "        True, False,  True, False, False,  True,  True,  True,  True,\n",
              "        True, False,  True, False, False,  True, False, False, False,\n",
              "        True,  True, False, False,  True,  True,  True,  True, False,\n",
              "        True, False,  True, False, False, False,  True,  True,  True,\n",
              "        True,  True,  True,  True,  True,  True, False, False,  True,\n",
              "        True,  True,  True,  True,  True,  True,  True,  True,  True,\n",
              "        True,  True,  True,  True, False,  True,  True,  True, False,\n",
              "       False,  True, False, False, False,  True,  True,  True,  True,\n",
              "        True, False,  True, False,  True,  True, False,  True,  True,\n",
              "        True,  True, False, False,  True,  True, False,  True, False,\n",
              "        True, False,  True, False, False, False, False, False, False,\n",
              "       False,  True, False, False,  True,  True, False, False,  True,\n",
              "        True,  True,  True, False, False, False, False, False])>"
            ]
          },
          "metadata": {},
          "execution_count": 17
        }
      ]
    },
    {
      "cell_type": "markdown",
      "source": [
        "Até aqui a classe de dados da Fase A pode ser separados."
      ],
      "metadata": {
        "id": "9AhnMo4YMjSL"
      }
    },
    {
      "cell_type": "markdown",
      "source": [
        "# Treinando Autoencoder para separar Fases B e C"
      ],
      "metadata": {
        "id": "6DDB5LEdMqqn"
      }
    },
    {
      "cell_type": "markdown",
      "source": [
        "Obtendo os dados que foram classificados como fases B e C no Autoencoder A"
      ],
      "metadata": {
        "id": "ibgIuYPhZKz-"
      }
    },
    {
      "cell_type": "code",
      "source": [
        "# # B_pred = B_train[pred_B[0] == True]\n",
        "# indices_B_pred = np.flatnonzero(pred_B[0] == True)\n",
        "# B_pred = B_train[indices_B_pred]\n",
        "\n",
        "C_pred = C_train[pred_C == True]\n",
        "# indices_C_pred = np.flatnonzero(pred_C[0] == True)\n",
        "# C_pred = C_train[indices_C_pred]"
      ],
      "metadata": {
        "id": "WrB2pnggMqQV"
      },
      "execution_count": null,
      "outputs": []
    },
    {
      "cell_type": "code",
      "source": [
        "print(pred_C.shape)"
      ],
      "metadata": {
        "colab": {
          "base_uri": "https://localhost:8080/"
        },
        "id": "Q29T5gOmfj-y",
        "outputId": "25e9302b-890f-4c75-c92c-ecf183e7c8b3"
      },
      "execution_count": null,
      "outputs": [
        {
          "output_type": "stream",
          "name": "stdout",
          "text": [
            "(719,)\n"
          ]
        }
      ]
    }
  ]
}